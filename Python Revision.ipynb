{
 "cells": [
  {
   "cell_type": "code",
   "execution_count": 3,
   "id": "a15e17db",
   "metadata": {},
   "outputs": [
    {
     "name": "stdout",
     "output_type": "stream",
     "text": [
      "python\n",
      "java\n",
      "C++\n",
      "hadoop\n"
     ]
    }
   ],
   "source": [
    "py_list = ['python','java','C++','hadoop']\n",
    "for i in py_list:\n",
    "    print(i)"
   ]
  },
  {
   "cell_type": "code",
   "execution_count": 10,
   "id": "7c52ab32",
   "metadata": {},
   "outputs": [
    {
     "name": "stdout",
     "output_type": "stream",
     "text": [
      "A B C D E F G H I J K L M N O P Q R S T U V W X Y Z "
     ]
    }
   ],
   "source": [
    "for i in range(65,91):\n",
    "    print(chr(i),end = \" \")"
   ]
  },
  {
   "cell_type": "code",
   "execution_count": 13,
   "id": "5e345a3c",
   "metadata": {},
   "outputs": [
    {
     "name": "stdout",
     "output_type": "stream",
     "text": [
      "a b c d e f g h i j k l m n o p q r s t u v w x y z "
     ]
    }
   ],
   "source": [
    "for i in range(97,123):\n",
    "    print(chr(i),end = \" \")"
   ]
  },
  {
   "cell_type": "code",
   "execution_count": 16,
   "id": "78dd51f3",
   "metadata": {},
   "outputs": [
    {
     "name": "stdout",
     "output_type": "stream",
     "text": [
      "python\n",
      "hadoop\n"
     ]
    }
   ],
   "source": [
    "py_list = ['python','java','C++','hadoop']\n",
    "for i in py_list:\n",
    "    if len(i)>4:\n",
    "        print(i)"
   ]
  },
  {
   "cell_type": "code",
   "execution_count": 17,
   "id": "424294a0",
   "metadata": {},
   "outputs": [
    {
     "name": "stdout",
     "output_type": "stream",
     "text": [
      "sanket@gmail.com\n",
      "shital@gmail.com\n",
      "rohit@gmail.com\n"
     ]
    }
   ],
   "source": [
    "a = ['sanket@gmail.com','mayur@yahoo.com','shital@gmail.com','rohit@gmail.com']\n",
    "for i in a:\n",
    "    if i.endswith('gmail.com'):\n",
    "        print(i)"
   ]
  },
  {
   "cell_type": "code",
   "execution_count": 19,
   "id": "7f6cda08",
   "metadata": {},
   "outputs": [
    {
     "name": "stdout",
     "output_type": "stream",
     "text": [
      "[0, 2, 4, 6, 8, 10, 12, 14, 16, 18, 20, 22, 24, 26, 28, 30, 32, 34, 36, 38, 40, 42, 44, 46, 48, 50, 52, 54, 56, 58, 60, 62, 64, 66, 68, 70, 72, 74, 76, 78, 80, 82, 84, 86, 88, 90, 92, 94, 96, 98, 100]\n",
      "[1, 3, 5, 7, 9, 11, 13, 15, 17, 19, 21, 23, 25, 27, 29, 31, 33, 35, 37, 39, 41, 43, 45, 47, 49, 51, 53, 55, 57, 59, 61, 63, 65, 67, 69, 71, 73, 75, 77, 79, 81, 83, 85, 87, 89, 91, 93, 95, 97, 99]\n"
     ]
    }
   ],
   "source": [
    "even = []\n",
    "odd = []\n",
    "for i in range(0,101):\n",
    "    if i%2 == 0:\n",
    "        even.append(i)\n",
    "    else:\n",
    "        odd.append(i)\n",
    "    \n",
    "print(even)\n",
    "print(odd)"
   ]
  },
  {
   "cell_type": "code",
   "execution_count": 21,
   "id": "3d2eb55c",
   "metadata": {},
   "outputs": [
    {
     "name": "stdout",
     "output_type": "stream",
     "text": [
      "{'a': 1, 'b': 1, 'c': 4, 'd': 3}\n"
     ]
    }
   ],
   "source": [
    "p = ['a','b','c','c','c','c','d','d','d']\n",
    "d = {}\n",
    "for i in p:\n",
    "    if i not in d:\n",
    "        d[i]=1\n",
    "    else:\n",
    "        d[i]+=1\n",
    "    \n",
    "print(d)"
   ]
  },
  {
   "cell_type": "code",
   "execution_count": 25,
   "id": "3ad4d625",
   "metadata": {},
   "outputs": [
    {
     "name": "stdout",
     "output_type": "stream",
     "text": [
      "1 2 3 4 5 6 7 8 9 10 "
     ]
    }
   ],
   "source": [
    "i = 1\n",
    "while i<=10:\n",
    "    print(i,end = \" \")\n",
    "    i+=1"
   ]
  },
  {
   "cell_type": "code",
   "execution_count": null,
   "id": "431b070c",
   "metadata": {},
   "outputs": [
    {
     "name": "stdout",
     "output_type": "stream",
     "text": [
      "enter the number : 100\n",
      "enter the number : 200\n",
      "addition of 100 and 200 is 300\n",
      "enter the choice :n\n"
     ]
    }
   ],
   "source": [
    "flag = True\n",
    "while flag:\n",
    "    a = int(input(\"enter the number : \"))\n",
    "    b = int(input(\"enter the number : \"))\n",
    "    c = a+b\n",
    "    print(f\"addition of {a} and {b} is {c}\")\n",
    "    choice = input(\"enter the choice :\")\n",
    "    if choice == \"y\":\n",
    "        flag == True\n",
    "    else:\n",
    "        flag == False"
   ]
  },
  {
   "cell_type": "code",
   "execution_count": 31,
   "id": "33ad6167",
   "metadata": {},
   "outputs": [
    {
     "name": "stdout",
     "output_type": "stream",
     "text": [
      "['67', '86', '78', '67', '89', '67', '96', '79', '67', '96', '79']\n"
     ]
    }
   ],
   "source": [
    "p = '6786786789679679679679'\n",
    "li = []\n",
    "while p:\n",
    "    li.append(p[:2])\n",
    "    p = p[2:]\n",
    "print(li)"
   ]
  },
  {
   "cell_type": "code",
   "execution_count": 30,
   "id": "54a08c76",
   "metadata": {},
   "outputs": [
    {
     "name": "stdout",
     "output_type": "stream",
     "text": [
      "python\n",
      "hadoop\n",
      "java\n"
     ]
    }
   ],
   "source": [
    "p = ['python','hadoop','java',454,'djnago']\n",
    "for i in p:\n",
    "    if type(i)== str:\n",
    "        print(i)\n",
    "    else:\n",
    "        break"
   ]
  },
  {
   "cell_type": "code",
   "execution_count": 29,
   "id": "f204df24",
   "metadata": {},
   "outputs": [
    {
     "name": "stdout",
     "output_type": "stream",
     "text": [
      "20\n"
     ]
    }
   ],
   "source": [
    "a = 10\n",
    "b = 10\n",
    "c = a+b\n",
    "print(c)"
   ]
  },
  {
   "cell_type": "code",
   "execution_count": 32,
   "id": "f2715555",
   "metadata": {},
   "outputs": [
    {
     "name": "stdout",
     "output_type": "stream",
     "text": [
      "python\n",
      "hadoop\n",
      "java\n",
      "djnago\n"
     ]
    }
   ],
   "source": [
    "p = ['python','hadoop','java',454,'djnago']\n",
    "for i in p:\n",
    "    if type(i)== str:\n",
    "        print(i)\n",
    "    else:\n",
    "        continue"
   ]
  },
  {
   "cell_type": "code",
   "execution_count": 39,
   "id": "f43e7322",
   "metadata": {},
   "outputs": [
    {
     "name": "stdout",
     "output_type": "stream",
     "text": [
      " email processing sanket@gmail.com\n",
      "invalid email\n",
      " email processing shital@gmail.com\n",
      " email processing rohit@gmail.com\n"
     ]
    }
   ],
   "source": [
    "a = ['sanket@gmail.com','mayur@yahoo.com','shital@gmail.com','rohit@gmail.com']\n",
    "for i in a:\n",
    "    if i.endswith(\"@gmail.com\"):\n",
    "        print(f\" email processing {i}\")\n",
    "    else:\n",
    "        print(\"invalid email\")\n",
    "        continue"
   ]
  },
  {
   "cell_type": "code",
   "execution_count": 45,
   "id": "c2a1a468",
   "metadata": {},
   "outputs": [],
   "source": [
    "def name():\n",
    "    print(\"Hello World\")"
   ]
  },
  {
   "cell_type": "code",
   "execution_count": 46,
   "id": "80a490a8",
   "metadata": {},
   "outputs": [
    {
     "name": "stdout",
     "output_type": "stream",
     "text": [
      "Hello World\n"
     ]
    }
   ],
   "source": [
    "name()"
   ]
  },
  {
   "cell_type": "code",
   "execution_count": 50,
   "id": "4791806f",
   "metadata": {},
   "outputs": [],
   "source": [
    "def nav(a):\n",
    "    print(a +   \"more\")"
   ]
  },
  {
   "cell_type": "code",
   "execution_count": 53,
   "id": "1797b235",
   "metadata": {},
   "outputs": [
    {
     "name": "stdout",
     "output_type": "stream",
     "text": [
      "100\n"
     ]
    }
   ],
   "source": [
    "mult(10,10)"
   ]
  },
  {
   "cell_type": "code",
   "execution_count": 66,
   "id": "02b98d89",
   "metadata": {},
   "outputs": [],
   "source": [
    "def str_len(s):\n",
    "    cal_len = len(s)\n",
    "    return cal_len"
   ]
  },
  {
   "cell_type": "code",
   "execution_count": 67,
   "id": "6ded0801",
   "metadata": {},
   "outputs": [
    {
     "name": "stdout",
     "output_type": "stream",
     "text": [
      "String is bigger\n"
     ]
    }
   ],
   "source": [
    "a = str_len('sanket')\n",
    "if a>5:\n",
    "    print(\"String is bigger\")\n",
    "else:\n",
    "    print(\"String is Shorter\")"
   ]
  },
  {
   "cell_type": "code",
   "execution_count": 58,
   "id": "0cf483a6",
   "metadata": {},
   "outputs": [],
   "source": [
    "def add(a,b):\n",
    "    c = a+b\n",
    "    print(c)"
   ]
  },
  {
   "cell_type": "code",
   "execution_count": 68,
   "id": "ede7814a",
   "metadata": {},
   "outputs": [],
   "source": [
    "def greet(a):\n",
    "    if a == \"sanket\":\n",
    "        return \"welcome\"\n",
    "    else:\n",
    "        return \"goodbye\""
   ]
  },
  {
   "cell_type": "code",
   "execution_count": 72,
   "id": "a1fad725",
   "metadata": {},
   "outputs": [
    {
     "data": {
      "text/plain": [
       "'welcome'"
      ]
     },
     "execution_count": 72,
     "metadata": {},
     "output_type": "execute_result"
    }
   ],
   "source": [
    "a = greet('sanket')\n",
    "a"
   ]
  },
  {
   "cell_type": "code",
   "execution_count": 73,
   "id": "5a13fa25",
   "metadata": {},
   "outputs": [
    {
     "data": {
      "text/plain": [
       "'goodbye'"
      ]
     },
     "execution_count": 73,
     "metadata": {},
     "output_type": "execute_result"
    }
   ],
   "source": [
    "b = greet('preet')\n",
    "b"
   ]
  },
  {
   "cell_type": "code",
   "execution_count": 74,
   "id": "d43c2164",
   "metadata": {},
   "outputs": [
    {
     "name": "stdout",
     "output_type": "stream",
     "text": [
      "(10, 20, 30, 40, 50)\n"
     ]
    }
   ],
   "source": [
    "a = 10,20,30,40,50\n",
    "print(a)"
   ]
  },
  {
   "cell_type": "code",
   "execution_count": 77,
   "id": "d567cbcf",
   "metadata": {},
   "outputs": [],
   "source": [
    "def add(x,y):\n",
    "    z = x+y\n",
    "    return x,y,z"
   ]
  },
  {
   "cell_type": "code",
   "execution_count": 81,
   "id": "089a7b5c",
   "metadata": {},
   "outputs": [
    {
     "data": {
      "text/plain": [
       "22"
      ]
     },
     "execution_count": 81,
     "metadata": {},
     "output_type": "execute_result"
    }
   ],
   "source": [
    "a,b,c=add(11,22) "
   ]
  },
  {
   "cell_type": "code",
   "execution_count": 82,
   "id": "dfd34a72",
   "metadata": {},
   "outputs": [
    {
     "data": {
      "text/plain": [
       "11"
      ]
     },
     "execution_count": 82,
     "metadata": {},
     "output_type": "execute_result"
    }
   ],
   "source": [
    "a"
   ]
  },
  {
   "cell_type": "code",
   "execution_count": 83,
   "id": "200efa8c",
   "metadata": {},
   "outputs": [
    {
     "data": {
      "text/plain": [
       "22"
      ]
     },
     "execution_count": 83,
     "metadata": {},
     "output_type": "execute_result"
    }
   ],
   "source": [
    "b"
   ]
  },
  {
   "cell_type": "code",
   "execution_count": 84,
   "id": "e2fe76d4",
   "metadata": {},
   "outputs": [
    {
     "data": {
      "text/plain": [
       "33"
      ]
     },
     "execution_count": 84,
     "metadata": {},
     "output_type": "execute_result"
    }
   ],
   "source": [
    "c"
   ]
  },
  {
   "cell_type": "code",
   "execution_count": 85,
   "id": "37b7b994",
   "metadata": {},
   "outputs": [],
   "source": [
    "def strconcate(str1,str2):\n",
    "    con = str1 + str2\n",
    "    return con"
   ]
  },
  {
   "cell_type": "code",
   "execution_count": 87,
   "id": "8a11ceb0",
   "metadata": {},
   "outputs": [],
   "source": [
    "r = strconcate(\"sanket\",\"more\")"
   ]
  },
  {
   "cell_type": "code",
   "execution_count": 88,
   "id": "0f217d14",
   "metadata": {},
   "outputs": [
    {
     "data": {
      "text/plain": [
       "'sanketmore'"
      ]
     },
     "execution_count": 88,
     "metadata": {},
     "output_type": "execute_result"
    }
   ],
   "source": [
    "r"
   ]
  },
  {
   "cell_type": "code",
   "execution_count": 96,
   "id": "ccccdc9a",
   "metadata": {},
   "outputs": [],
   "source": [
    "def emp_dtl(name,id,city,sal):\n",
    "    print(\"name :\",name)\n",
    "    print(\"id :\" ,id)\n",
    "    print(\"city :\" ,city)\n",
    "    print(\"sal :\" ,sal)"
   ]
  },
  {
   "cell_type": "code",
   "execution_count": 97,
   "id": "f6c420c7",
   "metadata": {},
   "outputs": [
    {
     "name": "stdout",
     "output_type": "stream",
     "text": [
      "name : sanket\n",
      "id : 23\n",
      "city : satara\n",
      "sal : 190000\n"
     ]
    }
   ],
   "source": [
    "emp_dtl(\"sanket\",23,\"satara\",190000)"
   ]
  },
  {
   "cell_type": "code",
   "execution_count": 100,
   "id": "e8c85b6c",
   "metadata": {},
   "outputs": [],
   "source": [
    "def empd(name,age,sal,adhar = \"No\"):\n",
    "    print(\"name: \", name)\n",
    "    print(\"age:\", age)\n",
    "    print(\"salary: \", sal)\n",
    "    print(\"adhar: \", adhar)"
   ]
  },
  {
   "cell_type": "code",
   "execution_count": 101,
   "id": "cead1e99",
   "metadata": {},
   "outputs": [
    {
     "name": "stdout",
     "output_type": "stream",
     "text": [
      "name:  sanket\n",
      "age: 24\n",
      "salary:  190000\n",
      "adhar:  No\n"
     ]
    }
   ],
   "source": [
    "empd(\"sanket\",24,190000)"
   ]
  },
  {
   "cell_type": "code",
   "execution_count": 102,
   "id": "4a03e9ab",
   "metadata": {},
   "outputs": [],
   "source": [
    "def add(x = 0,y = 0,z = 0):\n",
    "    print(x+y+z)"
   ]
  },
  {
   "cell_type": "code",
   "execution_count": 103,
   "id": "92f02022",
   "metadata": {},
   "outputs": [
    {
     "name": "stdout",
     "output_type": "stream",
     "text": [
      "20\n"
     ]
    }
   ],
   "source": [
    "add(20)"
   ]
  },
  {
   "cell_type": "code",
   "execution_count": 104,
   "id": "2c77d137",
   "metadata": {},
   "outputs": [
    {
     "name": "stdout",
     "output_type": "stream",
     "text": [
      "45\n"
     ]
    }
   ],
   "source": [
    "add(10,35)"
   ]
  },
  {
   "cell_type": "code",
   "execution_count": 105,
   "id": "c11a8a81",
   "metadata": {},
   "outputs": [
    {
     "name": "stdout",
     "output_type": "stream",
     "text": [
      "166\n"
     ]
    }
   ],
   "source": [
    "add(55,45,66)"
   ]
  },
  {
   "cell_type": "code",
   "execution_count": 106,
   "id": "e249badf",
   "metadata": {},
   "outputs": [],
   "source": [
    "def dtl(*a):\n",
    "    print(a)"
   ]
  },
  {
   "cell_type": "code",
   "execution_count": 107,
   "id": "8e3ea4ef",
   "metadata": {},
   "outputs": [
    {
     "name": "stdout",
     "output_type": "stream",
     "text": [
      "('sanket', 24, 'satara', 190000)\n"
     ]
    }
   ],
   "source": [
    "dtl(\"sanket\",24,\"satara\",190000)"
   ]
  },
  {
   "cell_type": "code",
   "execution_count": 111,
   "id": "e011f06b",
   "metadata": {},
   "outputs": [],
   "source": [
    "def addd(*a):\n",
    "    t = 0\n",
    "    for i in a:\n",
    "        t = t+i\n",
    "        print(\"Addition is\",t)"
   ]
  },
  {
   "cell_type": "code",
   "execution_count": 112,
   "id": "c358aa05",
   "metadata": {},
   "outputs": [
    {
     "name": "stdout",
     "output_type": "stream",
     "text": [
      "Addition is 243234\n",
      "Addition is 266777\n",
      "Addition is 272323\n",
      "Addition is 272870\n",
      "Addition is 273437\n"
     ]
    }
   ],
   "source": [
    "addd(243234,23543,5546,547,567)"
   ]
  },
  {
   "cell_type": "code",
   "execution_count": 113,
   "id": "b4282f39",
   "metadata": {},
   "outputs": [],
   "source": [
    "def map(name,age,*a):\n",
    "    print(name)\n",
    "    print(age)\n",
    "    print(a)"
   ]
  },
  {
   "cell_type": "code",
   "execution_count": 114,
   "id": "5b63bf00",
   "metadata": {},
   "outputs": [
    {
     "name": "stdout",
     "output_type": "stream",
     "text": [
      "sanket\n",
      "24\n",
      "('satara', 198000)\n"
     ]
    }
   ],
   "source": [
    "map(\"sanket\",24,\"satara\",198000)"
   ]
  },
  {
   "cell_type": "code",
   "execution_count": 115,
   "id": "ee878cb7",
   "metadata": {},
   "outputs": [],
   "source": [
    "def mp(name,age,sal,city):\n",
    "    print(\"name:\", name)\n",
    "    print(\"age:\", age)\n",
    "    print(\"sal:\", sal)\n",
    "    print(\"city:\", city)"
   ]
  },
  {
   "cell_type": "code",
   "execution_count": 116,
   "id": "293d799f",
   "metadata": {},
   "outputs": [
    {
     "name": "stdout",
     "output_type": "stream",
     "text": [
      "name: sanket\n",
      "age: 24\n",
      "sal: 198000\n",
      "city: satara\n"
     ]
    }
   ],
   "source": [
    "mp(age = 24,name = \"sanket\",city  = \"satara\" , sal = 198000)\n",
    "\n",
    "#keyword arguments"
   ]
  },
  {
   "cell_type": "code",
   "execution_count": 117,
   "id": "f364b268",
   "metadata": {},
   "outputs": [],
   "source": [
    "def miss(**a):\n",
    "    print(a)"
   ]
  },
  {
   "cell_type": "code",
   "execution_count": 118,
   "id": "f3ad31cd",
   "metadata": {},
   "outputs": [
    {
     "name": "stdout",
     "output_type": "stream",
     "text": [
      "{'name': 'sanket', 'age': 24, 'city': 'satara', 'salary': 198000}\n"
     ]
    }
   ],
   "source": [
    "miss(name = \"sanket\",age =24 , city = \"satara\" , salary = 198000)"
   ]
  },
  {
   "cell_type": "code",
   "execution_count": 1,
   "id": "cd3915a4",
   "metadata": {},
   "outputs": [],
   "source": [
    "def sanket(**a):\n",
    "    print(a)"
   ]
  },
  {
   "cell_type": "code",
   "execution_count": 2,
   "id": "2bd2715d",
   "metadata": {},
   "outputs": [
    {
     "name": "stdout",
     "output_type": "stream",
     "text": [
      "{'name': 'sanket', 'age': 24, 'salary': 198000, 'city': 'satara'}\n"
     ]
    }
   ],
   "source": [
    "sanket(name = 'sanket' , age = 24, salary = 198000, city = 'satara') "
   ]
  },
  {
   "cell_type": "code",
   "execution_count": 3,
   "id": "dbc702fe",
   "metadata": {},
   "outputs": [],
   "source": [
    "def sam(z):\n",
    "    for i in z:\n",
    "        print(z)\n"
   ]
  },
  {
   "cell_type": "code",
   "execution_count": 5,
   "id": "a4c8da9b",
   "metadata": {},
   "outputs": [
    {
     "name": "stdout",
     "output_type": "stream",
     "text": [
      "['python', 'hadoop', 'java', 454, 'djnago']\n",
      "['python', 'hadoop', 'java', 454, 'djnago']\n",
      "['python', 'hadoop', 'java', 454, 'djnago']\n",
      "['python', 'hadoop', 'java', 454, 'djnago']\n",
      "['python', 'hadoop', 'java', 454, 'djnago']\n"
     ]
    }
   ],
   "source": [
    "p = ['python','hadoop','java',454,'djnago']\n",
    "sam(p)"
   ]
  },
  {
   "cell_type": "code",
   "execution_count": 6,
   "id": "af22cb21",
   "metadata": {},
   "outputs": [
    {
     "name": "stdout",
     "output_type": "stream",
     "text": [
      "10\n"
     ]
    }
   ],
   "source": [
    "a = lambda a,b : a if a>b else b\n",
    "print(a(10,5))"
   ]
  },
  {
   "cell_type": "code",
   "execution_count": 7,
   "id": "6d4d7ace",
   "metadata": {},
   "outputs": [
    {
     "name": "stdout",
     "output_type": "stream",
     "text": [
      "100\n"
     ]
    }
   ],
   "source": [
    "b = lambda a,b : a*b\n",
    "print(b(10,10))"
   ]
  },
  {
   "cell_type": "code",
   "execution_count": 9,
   "id": "51dc060a",
   "metadata": {},
   "outputs": [
    {
     "name": "stdout",
     "output_type": "stream",
     "text": [
      "60\n"
     ]
    }
   ],
   "source": [
    "c = lambda a,b,c : a+b+c\n",
    "print(c(10,20,30))"
   ]
  },
  {
   "cell_type": "code",
   "execution_count": 10,
   "id": "d46f49d4",
   "metadata": {},
   "outputs": [],
   "source": [
    "def mult(a):\n",
    "    return lambda b : a*b"
   ]
  },
  {
   "cell_type": "code",
   "execution_count": 12,
   "id": "1ce5801e",
   "metadata": {},
   "outputs": [
    {
     "name": "stdout",
     "output_type": "stream",
     "text": [
      "200\n"
     ]
    }
   ],
   "source": [
    "a = mult(10)\n",
    "print (a(20))"
   ]
  },
  {
   "cell_type": "code",
   "execution_count": null,
   "id": "769c4634",
   "metadata": {},
   "outputs": [],
   "source": []
  },
  {
   "cell_type": "code",
   "execution_count": null,
   "id": "63e61207",
   "metadata": {},
   "outputs": [],
   "source": []
  },
  {
   "cell_type": "code",
   "execution_count": null,
   "id": "702aeaf1",
   "metadata": {},
   "outputs": [],
   "source": []
  },
  {
   "cell_type": "code",
   "execution_count": null,
   "id": "1e700de9",
   "metadata": {},
   "outputs": [],
   "source": []
  },
  {
   "cell_type": "code",
   "execution_count": null,
   "id": "712bcfc4",
   "metadata": {},
   "outputs": [],
   "source": []
  },
  {
   "cell_type": "code",
   "execution_count": null,
   "id": "e7a297ff",
   "metadata": {},
   "outputs": [],
   "source": []
  },
  {
   "cell_type": "code",
   "execution_count": null,
   "id": "137da58b",
   "metadata": {},
   "outputs": [],
   "source": []
  },
  {
   "cell_type": "code",
   "execution_count": null,
   "id": "1232d7e2",
   "metadata": {},
   "outputs": [],
   "source": []
  },
  {
   "cell_type": "code",
   "execution_count": null,
   "id": "f7f3bbce",
   "metadata": {},
   "outputs": [],
   "source": []
  },
  {
   "cell_type": "code",
   "execution_count": null,
   "id": "6a17c7d5",
   "metadata": {},
   "outputs": [],
   "source": []
  },
  {
   "cell_type": "code",
   "execution_count": null,
   "id": "54b9df64",
   "metadata": {},
   "outputs": [],
   "source": []
  },
  {
   "cell_type": "code",
   "execution_count": null,
   "id": "aa6e6de9",
   "metadata": {},
   "outputs": [],
   "source": []
  },
  {
   "cell_type": "code",
   "execution_count": null,
   "id": "2c0e993b",
   "metadata": {},
   "outputs": [],
   "source": []
  }
 ],
 "metadata": {
  "kernelspec": {
   "display_name": "Python 3 (ipykernel)",
   "language": "python",
   "name": "python3"
  },
  "language_info": {
   "codemirror_mode": {
    "name": "ipython",
    "version": 3
   },
   "file_extension": ".py",
   "mimetype": "text/x-python",
   "name": "python",
   "nbconvert_exporter": "python",
   "pygments_lexer": "ipython3",
   "version": "3.9.13"
  }
 },
 "nbformat": 4,
 "nbformat_minor": 5
}
